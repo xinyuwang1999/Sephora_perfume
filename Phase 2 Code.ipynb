{
 "cells": [
  {
   "cell_type": "code",
   "execution_count": 29,
   "id": "69e38f07-3c19-4ba1-b726-9dbb32d233fb",
   "metadata": {},
   "outputs": [],
   "source": [
    "import numpy as np\n",
    "import pandas as pd\n",
    "import matplotlib.pyplot as plt\n",
    "import os\n",
    "import re\n",
    "import seaborn as sns\n",
    "from sklearn import datasets, linear_model\n",
    "from sklearn.linear_model import LinearRegression\n",
    "from sklearn.model_selection import train_test_split\n",
    "%matplotlib inline"
   ]
  },
  {
   "cell_type": "code",
   "execution_count": 30,
   "id": "d012c8db-e6ba-45d7-b907-5b2449574246",
   "metadata": {},
   "outputs": [
    {
     "data": {
      "text/html": [
       "<div>\n",
       "<style scoped>\n",
       "    .dataframe tbody tr th:only-of-type {\n",
       "        vertical-align: middle;\n",
       "    }\n",
       "\n",
       "    .dataframe tbody tr th {\n",
       "        vertical-align: top;\n",
       "    }\n",
       "\n",
       "    .dataframe thead th {\n",
       "        text-align: right;\n",
       "    }\n",
       "</style>\n",
       "<table border=\"1\" class=\"dataframe\">\n",
       "  <thead>\n",
       "    <tr style=\"text-align: right;\">\n",
       "      <th></th>\n",
       "      <th>id</th>\n",
       "      <th>brand</th>\n",
       "      <th>category</th>\n",
       "      <th>name</th>\n",
       "      <th>size</th>\n",
       "      <th>rating</th>\n",
       "      <th>number_of_reviews</th>\n",
       "      <th>love</th>\n",
       "      <th>price</th>\n",
       "      <th>value_price</th>\n",
       "      <th>...</th>\n",
       "      <th>MarketingFlags</th>\n",
       "      <th>MarketingFlags_content</th>\n",
       "      <th>options</th>\n",
       "      <th>details</th>\n",
       "      <th>how_to_use</th>\n",
       "      <th>ingredients</th>\n",
       "      <th>online_only</th>\n",
       "      <th>exclusive</th>\n",
       "      <th>limited_edition</th>\n",
       "      <th>limited_time_offer</th>\n",
       "    </tr>\n",
       "  </thead>\n",
       "  <tbody>\n",
       "    <tr>\n",
       "      <th>0</th>\n",
       "      <td>2218774</td>\n",
       "      <td>Acqua Di Parma</td>\n",
       "      <td>Fragrance</td>\n",
       "      <td>Blu Mediterraneo MINIATURE Set</td>\n",
       "      <td>5 x 0.16oz/5mL</td>\n",
       "      <td>4.0</td>\n",
       "      <td>4</td>\n",
       "      <td>3002</td>\n",
       "      <td>66.0</td>\n",
       "      <td>75.0</td>\n",
       "      <td>...</td>\n",
       "      <td>True</td>\n",
       "      <td>online only</td>\n",
       "      <td>no options</td>\n",
       "      <td>This enchanting set comes in a specially handc...</td>\n",
       "      <td>Suggested Usage:-Fragrance is intensified by t...</td>\n",
       "      <td>Arancia di Capri Eau de Toilette: Alcohol Dena...</td>\n",
       "      <td>1</td>\n",
       "      <td>0</td>\n",
       "      <td>0</td>\n",
       "      <td>0</td>\n",
       "    </tr>\n",
       "    <tr>\n",
       "      <th>1</th>\n",
       "      <td>2044816</td>\n",
       "      <td>Acqua Di Parma</td>\n",
       "      <td>Cologne</td>\n",
       "      <td>Colonia</td>\n",
       "      <td>0.7 oz/ 20 mL</td>\n",
       "      <td>4.5</td>\n",
       "      <td>76</td>\n",
       "      <td>2700</td>\n",
       "      <td>66.0</td>\n",
       "      <td>66.0</td>\n",
       "      <td>...</td>\n",
       "      <td>True</td>\n",
       "      <td>online only</td>\n",
       "      <td>- 0.7 oz/ 20 mL  Spray  - 1.7 oz/ 50 mL Eau d...</td>\n",
       "      <td>An elegant timeless scent filled with a fresh-...</td>\n",
       "      <td>no instructions</td>\n",
       "      <td>unknown</td>\n",
       "      <td>1</td>\n",
       "      <td>0</td>\n",
       "      <td>0</td>\n",
       "      <td>0</td>\n",
       "    </tr>\n",
       "    <tr>\n",
       "      <th>2</th>\n",
       "      <td>1417567</td>\n",
       "      <td>Acqua Di Parma</td>\n",
       "      <td>Perfume</td>\n",
       "      <td>Arancia di Capri</td>\n",
       "      <td>5 oz/ 148 mL</td>\n",
       "      <td>4.5</td>\n",
       "      <td>26</td>\n",
       "      <td>2600</td>\n",
       "      <td>180.0</td>\n",
       "      <td>180.0</td>\n",
       "      <td>...</td>\n",
       "      <td>True</td>\n",
       "      <td>online only</td>\n",
       "      <td>- 1oz/30mL Eau de Toilette  - 2.5 oz/ 74 mL E...</td>\n",
       "      <td>Fragrance Family: Fresh Scent Type: Fresh Citr...</td>\n",
       "      <td>no instructions</td>\n",
       "      <td>Alcohol Denat.- Water- Fragrance- Limonene- Li...</td>\n",
       "      <td>1</td>\n",
       "      <td>0</td>\n",
       "      <td>0</td>\n",
       "      <td>0</td>\n",
       "    </tr>\n",
       "    <tr>\n",
       "      <th>3</th>\n",
       "      <td>1417617</td>\n",
       "      <td>Acqua Di Parma</td>\n",
       "      <td>Perfume</td>\n",
       "      <td>Mirto di Panarea</td>\n",
       "      <td>2.5 oz/ 74 mL</td>\n",
       "      <td>4.5</td>\n",
       "      <td>23</td>\n",
       "      <td>2900</td>\n",
       "      <td>120.0</td>\n",
       "      <td>120.0</td>\n",
       "      <td>...</td>\n",
       "      <td>True</td>\n",
       "      <td>online only</td>\n",
       "      <td>- 1 oz/ 30 mL Eau de Toilette Spray - 2.5 oz/...</td>\n",
       "      <td>Panarea near Sicily is an an island suspended ...</td>\n",
       "      <td>no instructions</td>\n",
       "      <td>unknown</td>\n",
       "      <td>1</td>\n",
       "      <td>0</td>\n",
       "      <td>0</td>\n",
       "      <td>0</td>\n",
       "    </tr>\n",
       "    <tr>\n",
       "      <th>4</th>\n",
       "      <td>2218766</td>\n",
       "      <td>Acqua Di Parma</td>\n",
       "      <td>Fragrance</td>\n",
       "      <td>Colonia Miniature Set</td>\n",
       "      <td>5 x 0.16oz/5mL</td>\n",
       "      <td>3.5</td>\n",
       "      <td>2</td>\n",
       "      <td>943</td>\n",
       "      <td>72.0</td>\n",
       "      <td>80.0</td>\n",
       "      <td>...</td>\n",
       "      <td>True</td>\n",
       "      <td>online only</td>\n",
       "      <td>no options</td>\n",
       "      <td>The Colonia Miniature Set comes in an iconic A...</td>\n",
       "      <td>Suggested Usage:-Fragrance is intensified by t...</td>\n",
       "      <td>Colonia: Alcohol Denat.- Water- Fragrance- Lim...</td>\n",
       "      <td>1</td>\n",
       "      <td>0</td>\n",
       "      <td>0</td>\n",
       "      <td>0</td>\n",
       "    </tr>\n",
       "  </tbody>\n",
       "</table>\n",
       "<p>5 rows × 21 columns</p>\n",
       "</div>"
      ],
      "text/plain": [
       "        id           brand   category                            name  \\\n",
       "0  2218774  Acqua Di Parma  Fragrance  Blu Mediterraneo MINIATURE Set   \n",
       "1  2044816  Acqua Di Parma    Cologne                         Colonia   \n",
       "2  1417567  Acqua Di Parma    Perfume                Arancia di Capri   \n",
       "3  1417617  Acqua Di Parma    Perfume                Mirto di Panarea   \n",
       "4  2218766  Acqua Di Parma  Fragrance           Colonia Miniature Set   \n",
       "\n",
       "             size  rating  number_of_reviews  love  price  value_price  ...  \\\n",
       "0  5 x 0.16oz/5mL     4.0                  4  3002   66.0         75.0  ...   \n",
       "1   0.7 oz/ 20 mL     4.5                 76  2700   66.0         66.0  ...   \n",
       "2    5 oz/ 148 mL     4.5                 26  2600  180.0        180.0  ...   \n",
       "3   2.5 oz/ 74 mL     4.5                 23  2900  120.0        120.0  ...   \n",
       "4  5 x 0.16oz/5mL     3.5                  2   943   72.0         80.0  ...   \n",
       "\n",
       "  MarketingFlags  MarketingFlags_content  \\\n",
       "0           True             online only   \n",
       "1           True             online only   \n",
       "2           True             online only   \n",
       "3           True             online only   \n",
       "4           True             online only   \n",
       "\n",
       "                                             options  \\\n",
       "0                                         no options   \n",
       "1   - 0.7 oz/ 20 mL  Spray  - 1.7 oz/ 50 mL Eau d...   \n",
       "2   - 1oz/30mL Eau de Toilette  - 2.5 oz/ 74 mL E...   \n",
       "3   - 1 oz/ 30 mL Eau de Toilette Spray - 2.5 oz/...   \n",
       "4                                         no options   \n",
       "\n",
       "                                             details  \\\n",
       "0  This enchanting set comes in a specially handc...   \n",
       "1  An elegant timeless scent filled with a fresh-...   \n",
       "2  Fragrance Family: Fresh Scent Type: Fresh Citr...   \n",
       "3  Panarea near Sicily is an an island suspended ...   \n",
       "4  The Colonia Miniature Set comes in an iconic A...   \n",
       "\n",
       "                                          how_to_use  \\\n",
       "0  Suggested Usage:-Fragrance is intensified by t...   \n",
       "1                                    no instructions   \n",
       "2                                    no instructions   \n",
       "3                                    no instructions   \n",
       "4  Suggested Usage:-Fragrance is intensified by t...   \n",
       "\n",
       "                                         ingredients online_only  exclusive  \\\n",
       "0  Arancia di Capri Eau de Toilette: Alcohol Dena...           1          0   \n",
       "1                                            unknown           1          0   \n",
       "2  Alcohol Denat.- Water- Fragrance- Limonene- Li...           1          0   \n",
       "3                                            unknown           1          0   \n",
       "4  Colonia: Alcohol Denat.- Water- Fragrance- Lim...           1          0   \n",
       "\n",
       "   limited_edition  limited_time_offer  \n",
       "0                0                   0  \n",
       "1                0                   0  \n",
       "2                0                   0  \n",
       "3                0                   0  \n",
       "4                0                   0  \n",
       "\n",
       "[5 rows x 21 columns]"
      ]
     },
     "execution_count": 30,
     "metadata": {},
     "output_type": "execute_result"
    }
   ],
   "source": [
    "data = pd.read_csv('/Users/wangxinyu/Downloads/CS 250/sephora_website_dataset.csv') \n",
    "data.head(5)"
   ]
  },
  {
   "cell_type": "code",
   "execution_count": 31,
   "id": "8399d2b6-313c-4caa-af63-e496a7c80495",
   "metadata": {
    "tags": []
   },
   "outputs": [
    {
     "data": {
      "text/plain": [
       "(9168, 21)"
      ]
     },
     "execution_count": 31,
     "metadata": {},
     "output_type": "execute_result"
    }
   ],
   "source": [
    "data.shape"
   ]
  },
  {
   "cell_type": "code",
   "execution_count": 32,
   "id": "0b30a65f-a25d-4488-8716-12564d9ef6ba",
   "metadata": {
    "tags": []
   },
   "outputs": [
    {
     "data": {
      "text/html": [
       "<div>\n",
       "<style scoped>\n",
       "    .dataframe tbody tr th:only-of-type {\n",
       "        vertical-align: middle;\n",
       "    }\n",
       "\n",
       "    .dataframe tbody tr th {\n",
       "        vertical-align: top;\n",
       "    }\n",
       "\n",
       "    .dataframe thead th {\n",
       "        text-align: right;\n",
       "    }\n",
       "</style>\n",
       "<table border=\"1\" class=\"dataframe\">\n",
       "  <thead>\n",
       "    <tr style=\"text-align: right;\">\n",
       "      <th></th>\n",
       "      <th>id</th>\n",
       "      <th>rating</th>\n",
       "      <th>number_of_reviews</th>\n",
       "      <th>love</th>\n",
       "      <th>price</th>\n",
       "      <th>value_price</th>\n",
       "      <th>online_only</th>\n",
       "      <th>exclusive</th>\n",
       "      <th>limited_edition</th>\n",
       "      <th>limited_time_offer</th>\n",
       "    </tr>\n",
       "  </thead>\n",
       "  <tbody>\n",
       "    <tr>\n",
       "      <th>count</th>\n",
       "      <td>9.168000e+03</td>\n",
       "      <td>9168.000000</td>\n",
       "      <td>9168.000000</td>\n",
       "      <td>9.168000e+03</td>\n",
       "      <td>9168.000000</td>\n",
       "      <td>9168.00000</td>\n",
       "      <td>9168.000000</td>\n",
       "      <td>9168.000000</td>\n",
       "      <td>9168.000000</td>\n",
       "      <td>9168.000000</td>\n",
       "    </tr>\n",
       "    <tr>\n",
       "      <th>mean</th>\n",
       "      <td>1.962952e+06</td>\n",
       "      <td>3.990020</td>\n",
       "      <td>282.139180</td>\n",
       "      <td>1.627859e+04</td>\n",
       "      <td>50.063237</td>\n",
       "      <td>51.82359</td>\n",
       "      <td>0.234839</td>\n",
       "      <td>0.264725</td>\n",
       "      <td>0.091841</td>\n",
       "      <td>0.000327</td>\n",
       "    </tr>\n",
       "    <tr>\n",
       "      <th>std</th>\n",
       "      <td>3.859714e+05</td>\n",
       "      <td>1.007707</td>\n",
       "      <td>890.642028</td>\n",
       "      <td>4.260651e+04</td>\n",
       "      <td>47.164989</td>\n",
       "      <td>49.45902</td>\n",
       "      <td>0.423921</td>\n",
       "      <td>0.441211</td>\n",
       "      <td>0.288817</td>\n",
       "      <td>0.018087</td>\n",
       "    </tr>\n",
       "    <tr>\n",
       "      <th>min</th>\n",
       "      <td>5.000000e+01</td>\n",
       "      <td>0.000000</td>\n",
       "      <td>0.000000</td>\n",
       "      <td>0.000000e+00</td>\n",
       "      <td>2.000000</td>\n",
       "      <td>2.00000</td>\n",
       "      <td>0.000000</td>\n",
       "      <td>0.000000</td>\n",
       "      <td>0.000000</td>\n",
       "      <td>0.000000</td>\n",
       "    </tr>\n",
       "    <tr>\n",
       "      <th>25%</th>\n",
       "      <td>1.819453e+06</td>\n",
       "      <td>4.000000</td>\n",
       "      <td>10.000000</td>\n",
       "      <td>1.600000e+03</td>\n",
       "      <td>24.000000</td>\n",
       "      <td>25.00000</td>\n",
       "      <td>0.000000</td>\n",
       "      <td>0.000000</td>\n",
       "      <td>0.000000</td>\n",
       "      <td>0.000000</td>\n",
       "    </tr>\n",
       "    <tr>\n",
       "      <th>50%</th>\n",
       "      <td>2.072354e+06</td>\n",
       "      <td>4.000000</td>\n",
       "      <td>46.000000</td>\n",
       "      <td>4.800000e+03</td>\n",
       "      <td>35.000000</td>\n",
       "      <td>35.00000</td>\n",
       "      <td>0.000000</td>\n",
       "      <td>0.000000</td>\n",
       "      <td>0.000000</td>\n",
       "      <td>0.000000</td>\n",
       "    </tr>\n",
       "    <tr>\n",
       "      <th>75%</th>\n",
       "      <td>2.230591e+06</td>\n",
       "      <td>4.500000</td>\n",
       "      <td>210.000000</td>\n",
       "      <td>1.380000e+04</td>\n",
       "      <td>59.000000</td>\n",
       "      <td>60.00000</td>\n",
       "      <td>0.000000</td>\n",
       "      <td>1.000000</td>\n",
       "      <td>0.000000</td>\n",
       "      <td>0.000000</td>\n",
       "    </tr>\n",
       "    <tr>\n",
       "      <th>max</th>\n",
       "      <td>2.359685e+06</td>\n",
       "      <td>5.000000</td>\n",
       "      <td>19000.000000</td>\n",
       "      <td>1.300000e+06</td>\n",
       "      <td>549.000000</td>\n",
       "      <td>549.00000</td>\n",
       "      <td>1.000000</td>\n",
       "      <td>1.000000</td>\n",
       "      <td>1.000000</td>\n",
       "      <td>1.000000</td>\n",
       "    </tr>\n",
       "  </tbody>\n",
       "</table>\n",
       "</div>"
      ],
      "text/plain": [
       "                 id       rating  number_of_reviews          love  \\\n",
       "count  9.168000e+03  9168.000000        9168.000000  9.168000e+03   \n",
       "mean   1.962952e+06     3.990020         282.139180  1.627859e+04   \n",
       "std    3.859714e+05     1.007707         890.642028  4.260651e+04   \n",
       "min    5.000000e+01     0.000000           0.000000  0.000000e+00   \n",
       "25%    1.819453e+06     4.000000          10.000000  1.600000e+03   \n",
       "50%    2.072354e+06     4.000000          46.000000  4.800000e+03   \n",
       "75%    2.230591e+06     4.500000         210.000000  1.380000e+04   \n",
       "max    2.359685e+06     5.000000       19000.000000  1.300000e+06   \n",
       "\n",
       "             price  value_price  online_only    exclusive  limited_edition  \\\n",
       "count  9168.000000   9168.00000  9168.000000  9168.000000      9168.000000   \n",
       "mean     50.063237     51.82359     0.234839     0.264725         0.091841   \n",
       "std      47.164989     49.45902     0.423921     0.441211         0.288817   \n",
       "min       2.000000      2.00000     0.000000     0.000000         0.000000   \n",
       "25%      24.000000     25.00000     0.000000     0.000000         0.000000   \n",
       "50%      35.000000     35.00000     0.000000     0.000000         0.000000   \n",
       "75%      59.000000     60.00000     0.000000     1.000000         0.000000   \n",
       "max     549.000000    549.00000     1.000000     1.000000         1.000000   \n",
       "\n",
       "       limited_time_offer  \n",
       "count         9168.000000  \n",
       "mean             0.000327  \n",
       "std              0.018087  \n",
       "min              0.000000  \n",
       "25%              0.000000  \n",
       "50%              0.000000  \n",
       "75%              0.000000  \n",
       "max              1.000000  "
      ]
     },
     "execution_count": 32,
     "metadata": {},
     "output_type": "execute_result"
    }
   ],
   "source": [
    "data.describe()"
   ]
  },
  {
   "cell_type": "code",
   "execution_count": 33,
   "id": "6dc62127-afa2-4c51-a282-c83e225598ac",
   "metadata": {},
   "outputs": [
    {
     "data": {
      "text/html": [
       "<div>\n",
       "<style scoped>\n",
       "    .dataframe tbody tr th:only-of-type {\n",
       "        vertical-align: middle;\n",
       "    }\n",
       "\n",
       "    .dataframe tbody tr th {\n",
       "        vertical-align: top;\n",
       "    }\n",
       "\n",
       "    .dataframe thead th {\n",
       "        text-align: right;\n",
       "    }\n",
       "</style>\n",
       "<table border=\"1\" class=\"dataframe\">\n",
       "  <thead>\n",
       "    <tr style=\"text-align: right;\">\n",
       "      <th></th>\n",
       "      <th>category</th>\n",
       "      <th>rating</th>\n",
       "      <th>number_of_reviews</th>\n",
       "      <th>love</th>\n",
       "      <th>price</th>\n",
       "      <th>value_price</th>\n",
       "      <th>online_only</th>\n",
       "      <th>exclusive</th>\n",
       "      <th>limited_edition</th>\n",
       "      <th>limited_time_offer</th>\n",
       "    </tr>\n",
       "  </thead>\n",
       "  <tbody>\n",
       "    <tr>\n",
       "      <th>0</th>\n",
       "      <td>Fragrance</td>\n",
       "      <td>4.0</td>\n",
       "      <td>4</td>\n",
       "      <td>3002</td>\n",
       "      <td>66.0</td>\n",
       "      <td>75.0</td>\n",
       "      <td>1</td>\n",
       "      <td>0</td>\n",
       "      <td>0</td>\n",
       "      <td>0</td>\n",
       "    </tr>\n",
       "    <tr>\n",
       "      <th>1</th>\n",
       "      <td>Cologne</td>\n",
       "      <td>4.5</td>\n",
       "      <td>76</td>\n",
       "      <td>2700</td>\n",
       "      <td>66.0</td>\n",
       "      <td>66.0</td>\n",
       "      <td>1</td>\n",
       "      <td>0</td>\n",
       "      <td>0</td>\n",
       "      <td>0</td>\n",
       "    </tr>\n",
       "    <tr>\n",
       "      <th>2</th>\n",
       "      <td>Perfume</td>\n",
       "      <td>4.5</td>\n",
       "      <td>26</td>\n",
       "      <td>2600</td>\n",
       "      <td>180.0</td>\n",
       "      <td>180.0</td>\n",
       "      <td>1</td>\n",
       "      <td>0</td>\n",
       "      <td>0</td>\n",
       "      <td>0</td>\n",
       "    </tr>\n",
       "    <tr>\n",
       "      <th>3</th>\n",
       "      <td>Perfume</td>\n",
       "      <td>4.5</td>\n",
       "      <td>23</td>\n",
       "      <td>2900</td>\n",
       "      <td>120.0</td>\n",
       "      <td>120.0</td>\n",
       "      <td>1</td>\n",
       "      <td>0</td>\n",
       "      <td>0</td>\n",
       "      <td>0</td>\n",
       "    </tr>\n",
       "    <tr>\n",
       "      <th>4</th>\n",
       "      <td>Fragrance</td>\n",
       "      <td>3.5</td>\n",
       "      <td>2</td>\n",
       "      <td>943</td>\n",
       "      <td>72.0</td>\n",
       "      <td>80.0</td>\n",
       "      <td>1</td>\n",
       "      <td>0</td>\n",
       "      <td>0</td>\n",
       "      <td>0</td>\n",
       "    </tr>\n",
       "    <tr>\n",
       "      <th>5</th>\n",
       "      <td>Perfume</td>\n",
       "      <td>4.5</td>\n",
       "      <td>79</td>\n",
       "      <td>2600</td>\n",
       "      <td>180.0</td>\n",
       "      <td>180.0</td>\n",
       "      <td>1</td>\n",
       "      <td>0</td>\n",
       "      <td>0</td>\n",
       "      <td>0</td>\n",
       "    </tr>\n",
       "    <tr>\n",
       "      <th>6</th>\n",
       "      <td>Perfume</td>\n",
       "      <td>4.5</td>\n",
       "      <td>79</td>\n",
       "      <td>5000</td>\n",
       "      <td>210.0</td>\n",
       "      <td>210.0</td>\n",
       "      <td>1</td>\n",
       "      <td>0</td>\n",
       "      <td>0</td>\n",
       "      <td>0</td>\n",
       "    </tr>\n",
       "    <tr>\n",
       "      <th>7</th>\n",
       "      <td>Cologne</td>\n",
       "      <td>5.0</td>\n",
       "      <td>13</td>\n",
       "      <td>719</td>\n",
       "      <td>120.0</td>\n",
       "      <td>120.0</td>\n",
       "      <td>1</td>\n",
       "      <td>0</td>\n",
       "      <td>0</td>\n",
       "      <td>0</td>\n",
       "    </tr>\n",
       "    <tr>\n",
       "      <th>8</th>\n",
       "      <td>Body Mist &amp; Hair Mist</td>\n",
       "      <td>4.0</td>\n",
       "      <td>5</td>\n",
       "      <td>800</td>\n",
       "      <td>58.0</td>\n",
       "      <td>58.0</td>\n",
       "      <td>1</td>\n",
       "      <td>0</td>\n",
       "      <td>0</td>\n",
       "      <td>0</td>\n",
       "    </tr>\n",
       "    <tr>\n",
       "      <th>9</th>\n",
       "      <td>Perfume</td>\n",
       "      <td>3.0</td>\n",
       "      <td>5</td>\n",
       "      <td>2100</td>\n",
       "      <td>58.0</td>\n",
       "      <td>58.0</td>\n",
       "      <td>1</td>\n",
       "      <td>1</td>\n",
       "      <td>0</td>\n",
       "      <td>0</td>\n",
       "    </tr>\n",
       "    <tr>\n",
       "      <th>10</th>\n",
       "      <td>Perfume</td>\n",
       "      <td>3.5</td>\n",
       "      <td>3</td>\n",
       "      <td>87</td>\n",
       "      <td>120.0</td>\n",
       "      <td>120.0</td>\n",
       "      <td>1</td>\n",
       "      <td>0</td>\n",
       "      <td>0</td>\n",
       "      <td>0</td>\n",
       "    </tr>\n",
       "    <tr>\n",
       "      <th>11</th>\n",
       "      <td>Perfume</td>\n",
       "      <td>4.5</td>\n",
       "      <td>16</td>\n",
       "      <td>1900</td>\n",
       "      <td>120.0</td>\n",
       "      <td>120.0</td>\n",
       "      <td>0</td>\n",
       "      <td>0</td>\n",
       "      <td>0</td>\n",
       "      <td>0</td>\n",
       "    </tr>\n",
       "    <tr>\n",
       "      <th>12</th>\n",
       "      <td>Perfume</td>\n",
       "      <td>4.5</td>\n",
       "      <td>19</td>\n",
       "      <td>2300</td>\n",
       "      <td>142.0</td>\n",
       "      <td>142.0</td>\n",
       "      <td>1</td>\n",
       "      <td>0</td>\n",
       "      <td>0</td>\n",
       "      <td>0</td>\n",
       "    </tr>\n",
       "    <tr>\n",
       "      <th>13</th>\n",
       "      <td>Perfume</td>\n",
       "      <td>4.5</td>\n",
       "      <td>44</td>\n",
       "      <td>2900</td>\n",
       "      <td>120.0</td>\n",
       "      <td>120.0</td>\n",
       "      <td>1</td>\n",
       "      <td>0</td>\n",
       "      <td>0</td>\n",
       "      <td>0</td>\n",
       "    </tr>\n",
       "    <tr>\n",
       "      <th>14</th>\n",
       "      <td>Perfume</td>\n",
       "      <td>0.0</td>\n",
       "      <td>0</td>\n",
       "      <td>143</td>\n",
       "      <td>275.0</td>\n",
       "      <td>275.0</td>\n",
       "      <td>1</td>\n",
       "      <td>0</td>\n",
       "      <td>0</td>\n",
       "      <td>0</td>\n",
       "    </tr>\n",
       "    <tr>\n",
       "      <th>15</th>\n",
       "      <td>Fragrance</td>\n",
       "      <td>4.0</td>\n",
       "      <td>1</td>\n",
       "      <td>594</td>\n",
       "      <td>80.0</td>\n",
       "      <td>95.0</td>\n",
       "      <td>1</td>\n",
       "      <td>1</td>\n",
       "      <td>1</td>\n",
       "      <td>0</td>\n",
       "    </tr>\n",
       "    <tr>\n",
       "      <th>16</th>\n",
       "      <td>Perfume</td>\n",
       "      <td>4.5</td>\n",
       "      <td>6</td>\n",
       "      <td>306</td>\n",
       "      <td>120.0</td>\n",
       "      <td>120.0</td>\n",
       "      <td>1</td>\n",
       "      <td>0</td>\n",
       "      <td>0</td>\n",
       "      <td>0</td>\n",
       "    </tr>\n",
       "    <tr>\n",
       "      <th>17</th>\n",
       "      <td>Body Lotions &amp; Body Oils</td>\n",
       "      <td>3.0</td>\n",
       "      <td>2</td>\n",
       "      <td>420</td>\n",
       "      <td>55.0</td>\n",
       "      <td>55.0</td>\n",
       "      <td>1</td>\n",
       "      <td>0</td>\n",
       "      <td>0</td>\n",
       "      <td>0</td>\n",
       "    </tr>\n",
       "    <tr>\n",
       "      <th>18</th>\n",
       "      <td>Body Sprays &amp; Deodorant</td>\n",
       "      <td>3.5</td>\n",
       "      <td>7</td>\n",
       "      <td>400</td>\n",
       "      <td>50.0</td>\n",
       "      <td>50.0</td>\n",
       "      <td>1</td>\n",
       "      <td>0</td>\n",
       "      <td>0</td>\n",
       "      <td>0</td>\n",
       "    </tr>\n",
       "    <tr>\n",
       "      <th>19</th>\n",
       "      <td>Cologne</td>\n",
       "      <td>4.0</td>\n",
       "      <td>20</td>\n",
       "      <td>584</td>\n",
       "      <td>120.0</td>\n",
       "      <td>120.0</td>\n",
       "      <td>1</td>\n",
       "      <td>0</td>\n",
       "      <td>0</td>\n",
       "      <td>0</td>\n",
       "    </tr>\n",
       "  </tbody>\n",
       "</table>\n",
       "</div>"
      ],
      "text/plain": [
       "                    category  rating  number_of_reviews  love  price  \\\n",
       "0                  Fragrance     4.0                  4  3002   66.0   \n",
       "1                    Cologne     4.5                 76  2700   66.0   \n",
       "2                    Perfume     4.5                 26  2600  180.0   \n",
       "3                    Perfume     4.5                 23  2900  120.0   \n",
       "4                  Fragrance     3.5                  2   943   72.0   \n",
       "5                    Perfume     4.5                 79  2600  180.0   \n",
       "6                    Perfume     4.5                 79  5000  210.0   \n",
       "7                    Cologne     5.0                 13   719  120.0   \n",
       "8      Body Mist & Hair Mist     4.0                  5   800   58.0   \n",
       "9                    Perfume     3.0                  5  2100   58.0   \n",
       "10                   Perfume     3.5                  3    87  120.0   \n",
       "11                   Perfume     4.5                 16  1900  120.0   \n",
       "12                   Perfume     4.5                 19  2300  142.0   \n",
       "13                   Perfume     4.5                 44  2900  120.0   \n",
       "14                   Perfume     0.0                  0   143  275.0   \n",
       "15                 Fragrance     4.0                  1   594   80.0   \n",
       "16                   Perfume     4.5                  6   306  120.0   \n",
       "17  Body Lotions & Body Oils     3.0                  2   420   55.0   \n",
       "18   Body Sprays & Deodorant     3.5                  7   400   50.0   \n",
       "19                   Cologne     4.0                 20   584  120.0   \n",
       "\n",
       "    value_price  online_only  exclusive  limited_edition  limited_time_offer  \n",
       "0          75.0            1          0                0                   0  \n",
       "1          66.0            1          0                0                   0  \n",
       "2         180.0            1          0                0                   0  \n",
       "3         120.0            1          0                0                   0  \n",
       "4          80.0            1          0                0                   0  \n",
       "5         180.0            1          0                0                   0  \n",
       "6         210.0            1          0                0                   0  \n",
       "7         120.0            1          0                0                   0  \n",
       "8          58.0            1          0                0                   0  \n",
       "9          58.0            1          1                0                   0  \n",
       "10        120.0            1          0                0                   0  \n",
       "11        120.0            0          0                0                   0  \n",
       "12        142.0            1          0                0                   0  \n",
       "13        120.0            1          0                0                   0  \n",
       "14        275.0            1          0                0                   0  \n",
       "15         95.0            1          1                1                   0  \n",
       "16        120.0            1          0                0                   0  \n",
       "17         55.0            1          0                0                   0  \n",
       "18         50.0            1          0                0                   0  \n",
       "19        120.0            1          0                0                   0  "
      ]
     },
     "execution_count": 33,
     "metadata": {},
     "output_type": "execute_result"
    }
   ],
   "source": [
    "data = data.drop(['id','brand','name','size','URL','MarketingFlags','MarketingFlags_content','options','details','how_to_use','ingredients'],axis=1)\n",
    "data.head(20)"
   ]
  },
  {
   "cell_type": "code",
   "execution_count": 34,
   "id": "f5cb04ea-330b-4037-bc6c-397d90d8b6f1",
   "metadata": {},
   "outputs": [
    {
     "data": {
      "text/html": [
       "<div>\n",
       "<style scoped>\n",
       "    .dataframe tbody tr th:only-of-type {\n",
       "        vertical-align: middle;\n",
       "    }\n",
       "\n",
       "    .dataframe tbody tr th {\n",
       "        vertical-align: top;\n",
       "    }\n",
       "\n",
       "    .dataframe thead th {\n",
       "        text-align: right;\n",
       "    }\n",
       "</style>\n",
       "<table border=\"1\" class=\"dataframe\">\n",
       "  <thead>\n",
       "    <tr style=\"text-align: right;\">\n",
       "      <th></th>\n",
       "      <th>category</th>\n",
       "      <th>rating</th>\n",
       "      <th>number_of_reviews</th>\n",
       "      <th>love</th>\n",
       "      <th>price</th>\n",
       "      <th>value_price</th>\n",
       "      <th>online_only</th>\n",
       "      <th>exclusive</th>\n",
       "      <th>limited_edition</th>\n",
       "      <th>limited_time_offer</th>\n",
       "    </tr>\n",
       "  </thead>\n",
       "  <tbody>\n",
       "    <tr>\n",
       "      <th>0</th>\n",
       "      <td>0</td>\n",
       "      <td>4.0</td>\n",
       "      <td>4</td>\n",
       "      <td>3002</td>\n",
       "      <td>66.0</td>\n",
       "      <td>75.0</td>\n",
       "      <td>1</td>\n",
       "      <td>0</td>\n",
       "      <td>0</td>\n",
       "      <td>0</td>\n",
       "    </tr>\n",
       "    <tr>\n",
       "      <th>1</th>\n",
       "      <td>1</td>\n",
       "      <td>4.5</td>\n",
       "      <td>76</td>\n",
       "      <td>2700</td>\n",
       "      <td>66.0</td>\n",
       "      <td>66.0</td>\n",
       "      <td>1</td>\n",
       "      <td>0</td>\n",
       "      <td>0</td>\n",
       "      <td>0</td>\n",
       "    </tr>\n",
       "    <tr>\n",
       "      <th>2</th>\n",
       "      <td>2</td>\n",
       "      <td>4.5</td>\n",
       "      <td>26</td>\n",
       "      <td>2600</td>\n",
       "      <td>180.0</td>\n",
       "      <td>180.0</td>\n",
       "      <td>1</td>\n",
       "      <td>0</td>\n",
       "      <td>0</td>\n",
       "      <td>0</td>\n",
       "    </tr>\n",
       "    <tr>\n",
       "      <th>3</th>\n",
       "      <td>2</td>\n",
       "      <td>4.5</td>\n",
       "      <td>23</td>\n",
       "      <td>2900</td>\n",
       "      <td>120.0</td>\n",
       "      <td>120.0</td>\n",
       "      <td>1</td>\n",
       "      <td>0</td>\n",
       "      <td>0</td>\n",
       "      <td>0</td>\n",
       "    </tr>\n",
       "    <tr>\n",
       "      <th>4</th>\n",
       "      <td>0</td>\n",
       "      <td>3.5</td>\n",
       "      <td>2</td>\n",
       "      <td>943</td>\n",
       "      <td>72.0</td>\n",
       "      <td>80.0</td>\n",
       "      <td>1</td>\n",
       "      <td>0</td>\n",
       "      <td>0</td>\n",
       "      <td>0</td>\n",
       "    </tr>\n",
       "    <tr>\n",
       "      <th>5</th>\n",
       "      <td>2</td>\n",
       "      <td>4.5</td>\n",
       "      <td>79</td>\n",
       "      <td>2600</td>\n",
       "      <td>180.0</td>\n",
       "      <td>180.0</td>\n",
       "      <td>1</td>\n",
       "      <td>0</td>\n",
       "      <td>0</td>\n",
       "      <td>0</td>\n",
       "    </tr>\n",
       "    <tr>\n",
       "      <th>6</th>\n",
       "      <td>2</td>\n",
       "      <td>4.5</td>\n",
       "      <td>79</td>\n",
       "      <td>5000</td>\n",
       "      <td>210.0</td>\n",
       "      <td>210.0</td>\n",
       "      <td>1</td>\n",
       "      <td>0</td>\n",
       "      <td>0</td>\n",
       "      <td>0</td>\n",
       "    </tr>\n",
       "    <tr>\n",
       "      <th>7</th>\n",
       "      <td>1</td>\n",
       "      <td>5.0</td>\n",
       "      <td>13</td>\n",
       "      <td>719</td>\n",
       "      <td>120.0</td>\n",
       "      <td>120.0</td>\n",
       "      <td>1</td>\n",
       "      <td>0</td>\n",
       "      <td>0</td>\n",
       "      <td>0</td>\n",
       "    </tr>\n",
       "    <tr>\n",
       "      <th>8</th>\n",
       "      <td>3</td>\n",
       "      <td>4.0</td>\n",
       "      <td>5</td>\n",
       "      <td>800</td>\n",
       "      <td>58.0</td>\n",
       "      <td>58.0</td>\n",
       "      <td>1</td>\n",
       "      <td>0</td>\n",
       "      <td>0</td>\n",
       "      <td>0</td>\n",
       "    </tr>\n",
       "    <tr>\n",
       "      <th>9</th>\n",
       "      <td>2</td>\n",
       "      <td>3.0</td>\n",
       "      <td>5</td>\n",
       "      <td>2100</td>\n",
       "      <td>58.0</td>\n",
       "      <td>58.0</td>\n",
       "      <td>1</td>\n",
       "      <td>1</td>\n",
       "      <td>0</td>\n",
       "      <td>0</td>\n",
       "    </tr>\n",
       "    <tr>\n",
       "      <th>10</th>\n",
       "      <td>2</td>\n",
       "      <td>3.5</td>\n",
       "      <td>3</td>\n",
       "      <td>87</td>\n",
       "      <td>120.0</td>\n",
       "      <td>120.0</td>\n",
       "      <td>1</td>\n",
       "      <td>0</td>\n",
       "      <td>0</td>\n",
       "      <td>0</td>\n",
       "    </tr>\n",
       "    <tr>\n",
       "      <th>11</th>\n",
       "      <td>2</td>\n",
       "      <td>4.5</td>\n",
       "      <td>16</td>\n",
       "      <td>1900</td>\n",
       "      <td>120.0</td>\n",
       "      <td>120.0</td>\n",
       "      <td>0</td>\n",
       "      <td>0</td>\n",
       "      <td>0</td>\n",
       "      <td>0</td>\n",
       "    </tr>\n",
       "    <tr>\n",
       "      <th>12</th>\n",
       "      <td>2</td>\n",
       "      <td>4.5</td>\n",
       "      <td>19</td>\n",
       "      <td>2300</td>\n",
       "      <td>142.0</td>\n",
       "      <td>142.0</td>\n",
       "      <td>1</td>\n",
       "      <td>0</td>\n",
       "      <td>0</td>\n",
       "      <td>0</td>\n",
       "    </tr>\n",
       "    <tr>\n",
       "      <th>13</th>\n",
       "      <td>2</td>\n",
       "      <td>4.5</td>\n",
       "      <td>44</td>\n",
       "      <td>2900</td>\n",
       "      <td>120.0</td>\n",
       "      <td>120.0</td>\n",
       "      <td>1</td>\n",
       "      <td>0</td>\n",
       "      <td>0</td>\n",
       "      <td>0</td>\n",
       "    </tr>\n",
       "    <tr>\n",
       "      <th>14</th>\n",
       "      <td>2</td>\n",
       "      <td>0.0</td>\n",
       "      <td>0</td>\n",
       "      <td>143</td>\n",
       "      <td>275.0</td>\n",
       "      <td>275.0</td>\n",
       "      <td>1</td>\n",
       "      <td>0</td>\n",
       "      <td>0</td>\n",
       "      <td>0</td>\n",
       "    </tr>\n",
       "    <tr>\n",
       "      <th>15</th>\n",
       "      <td>0</td>\n",
       "      <td>4.0</td>\n",
       "      <td>1</td>\n",
       "      <td>594</td>\n",
       "      <td>80.0</td>\n",
       "      <td>95.0</td>\n",
       "      <td>1</td>\n",
       "      <td>1</td>\n",
       "      <td>1</td>\n",
       "      <td>0</td>\n",
       "    </tr>\n",
       "    <tr>\n",
       "      <th>16</th>\n",
       "      <td>2</td>\n",
       "      <td>4.5</td>\n",
       "      <td>6</td>\n",
       "      <td>306</td>\n",
       "      <td>120.0</td>\n",
       "      <td>120.0</td>\n",
       "      <td>1</td>\n",
       "      <td>0</td>\n",
       "      <td>0</td>\n",
       "      <td>0</td>\n",
       "    </tr>\n",
       "    <tr>\n",
       "      <th>17</th>\n",
       "      <td>4</td>\n",
       "      <td>3.0</td>\n",
       "      <td>2</td>\n",
       "      <td>420</td>\n",
       "      <td>55.0</td>\n",
       "      <td>55.0</td>\n",
       "      <td>1</td>\n",
       "      <td>0</td>\n",
       "      <td>0</td>\n",
       "      <td>0</td>\n",
       "    </tr>\n",
       "    <tr>\n",
       "      <th>18</th>\n",
       "      <td>5</td>\n",
       "      <td>3.5</td>\n",
       "      <td>7</td>\n",
       "      <td>400</td>\n",
       "      <td>50.0</td>\n",
       "      <td>50.0</td>\n",
       "      <td>1</td>\n",
       "      <td>0</td>\n",
       "      <td>0</td>\n",
       "      <td>0</td>\n",
       "    </tr>\n",
       "    <tr>\n",
       "      <th>19</th>\n",
       "      <td>1</td>\n",
       "      <td>4.0</td>\n",
       "      <td>20</td>\n",
       "      <td>584</td>\n",
       "      <td>120.0</td>\n",
       "      <td>120.0</td>\n",
       "      <td>1</td>\n",
       "      <td>0</td>\n",
       "      <td>0</td>\n",
       "      <td>0</td>\n",
       "    </tr>\n",
       "  </tbody>\n",
       "</table>\n",
       "</div>"
      ],
      "text/plain": [
       "    category  rating  number_of_reviews  love  price  value_price  \\\n",
       "0          0     4.0                  4  3002   66.0         75.0   \n",
       "1          1     4.5                 76  2700   66.0         66.0   \n",
       "2          2     4.5                 26  2600  180.0        180.0   \n",
       "3          2     4.5                 23  2900  120.0        120.0   \n",
       "4          0     3.5                  2   943   72.0         80.0   \n",
       "5          2     4.5                 79  2600  180.0        180.0   \n",
       "6          2     4.5                 79  5000  210.0        210.0   \n",
       "7          1     5.0                 13   719  120.0        120.0   \n",
       "8          3     4.0                  5   800   58.0         58.0   \n",
       "9          2     3.0                  5  2100   58.0         58.0   \n",
       "10         2     3.5                  3    87  120.0        120.0   \n",
       "11         2     4.5                 16  1900  120.0        120.0   \n",
       "12         2     4.5                 19  2300  142.0        142.0   \n",
       "13         2     4.5                 44  2900  120.0        120.0   \n",
       "14         2     0.0                  0   143  275.0        275.0   \n",
       "15         0     4.0                  1   594   80.0         95.0   \n",
       "16         2     4.5                  6   306  120.0        120.0   \n",
       "17         4     3.0                  2   420   55.0         55.0   \n",
       "18         5     3.5                  7   400   50.0         50.0   \n",
       "19         1     4.0                 20   584  120.0        120.0   \n",
       "\n",
       "    online_only  exclusive  limited_edition  limited_time_offer  \n",
       "0             1          0                0                   0  \n",
       "1             1          0                0                   0  \n",
       "2             1          0                0                   0  \n",
       "3             1          0                0                   0  \n",
       "4             1          0                0                   0  \n",
       "5             1          0                0                   0  \n",
       "6             1          0                0                   0  \n",
       "7             1          0                0                   0  \n",
       "8             1          0                0                   0  \n",
       "9             1          1                0                   0  \n",
       "10            1          0                0                   0  \n",
       "11            0          0                0                   0  \n",
       "12            1          0                0                   0  \n",
       "13            1          0                0                   0  \n",
       "14            1          0                0                   0  \n",
       "15            1          1                1                   0  \n",
       "16            1          0                0                   0  \n",
       "17            1          0                0                   0  \n",
       "18            1          0                0                   0  \n",
       "19            1          0                0                   0  "
      ]
     },
     "execution_count": 34,
     "metadata": {},
     "output_type": "execute_result"
    }
   ],
   "source": [
    "for field in range(0,len(data.dtypes)):\n",
    "    if data.dtypes[field]=='object':\n",
    "        uniquelabels = data.iloc[:,field].unique()\n",
    "        cleanup_nums = dict(zip(uniquelabels,range(len(uniquelabels))))\n",
    "        data.replace(cleanup_nums, inplace=True)\n",
    "data.head(20)"
   ]
  },
  {
   "cell_type": "code",
   "execution_count": 35,
   "id": "7e7af0a2",
   "metadata": {},
   "outputs": [
    {
     "data": {
      "text/plain": [
       "category              0\n",
       "rating                0\n",
       "number_of_reviews     0\n",
       "love                  0\n",
       "price                 0\n",
       "value_price           0\n",
       "online_only           0\n",
       "exclusive             0\n",
       "limited_edition       0\n",
       "limited_time_offer    0\n",
       "dtype: int64"
      ]
     },
     "execution_count": 35,
     "metadata": {},
     "output_type": "execute_result"
    }
   ],
   "source": [
    "data.isnull().sum()"
   ]
  },
  {
   "cell_type": "markdown",
   "id": "916b4014",
   "metadata": {},
   "source": [
    "# Visualization"
   ]
  },
  {
   "cell_type": "code",
   "execution_count": 36,
   "id": "ca53cf92-4448-4fca-9e8c-d55a5460eec0",
   "metadata": {},
   "outputs": [
    {
     "data": {
      "text/plain": [
       "Text(0.5, 1.0, 'Rating Distribution')"
      ]
     },
     "execution_count": 36,
     "metadata": {},
     "output_type": "execute_result"
    },
    {
     "data": {
      "image/png": "[encoded data removed]",
      "text/plain": [
       "<Figure size 432x288 with 1 Axes>"
      ]
     },
     "metadata": {
      "needs_background": "light"
     },
     "output_type": "display_data"
    }
   ],
   "source": [
    "#setting the axes\n",
    "axes = plt.axes()\n",
    "axes.set_xlim([0,(data['rating'].max())])\n",
    "#making histogram with 20 bins\n",
    "plt.hist('rating', data = data, bins = 20)\n",
    "plt.xlabel('Num Reviews')\n",
    "plt.ylabel('Quantity')\n",
    "plt.title('Rating Distribution')"
   ]
  },
  {
   "cell_type": "code",
   "execution_count": 37,
   "id": "c6f88b41",
   "metadata": {},
   "outputs": [
    {
     "data": {
      "text/plain": [
       "Text(0.5, 1.0, 'Reviews Distribution')"
      ]
     },
     "execution_count": 37,
     "metadata": {},
     "output_type": "execute_result"
    },
    {
     "data": {
      "image/png": "[encoded data removed]",
      "text/plain": [
       "<Figure size 432x288 with 1 Axes>"
      ]
     },
     "metadata": {
      "needs_background": "light"
     },
     "output_type": "display_data"
    }
   ],
   "source": [
    "#setting the axes\n",
    "axes = plt.axes()\n",
    "axes.set_xlim([0,(data['number_of_reviews'].max())])\n",
    "#making histogram with 20 bins\n",
    "plt.hist('number_of_reviews', data = data, bins = 20)\n",
    "plt.xlabel('Num Reviews')\n",
    "plt.ylabel('Quantity')\n",
    "plt.title('Reviews Distribution')"
   ]
  },
  {
   "cell_type": "code",
   "execution_count": 38,
   "id": "8e825ae0",
   "metadata": {},
   "outputs": [
    {
     "data": {
      "text/plain": [
       "Text(0.5, 1.0, 'Love Distribution')"
      ]
     },
     "execution_count": 38,
     "metadata": {},
     "output_type": "execute_result"
    },
    {
     "data": {
      "image/png": "[encoded data removed]",
      "text/plain": [
       "<Figure size 432x288 with 1 Axes>"
      ]
     },
     "metadata": {
      "needs_background": "light"
     },
     "output_type": "display_data"
    }
   ],
   "source": [
    "#setting the axes\n",
    "axes = plt.axes()\n",
    "axes.set_xlim([0,(data['love'].max())])\n",
    "#making histogram with 20 bins\n",
    "plt.hist('love', data = data, bins = 20)\n",
    "plt.xlabel('Love')\n",
    "plt.ylabel('Quantity')\n",
    "plt.title('Love Distribution')"
   ]
  },
  {
   "cell_type": "code",
   "execution_count": 39,
   "id": "2ba68118",
   "metadata": {},
   "outputs": [
    {
     "data": {
      "text/plain": [
       "Text(0.5, 1.0, 'Price Distribution')"
      ]
     },
     "execution_count": 39,
     "metadata": {},
     "output_type": "execute_result"
    },
    {
     "data": {
      "image/png": "[encoded data removed]",
      "text/plain": [
       "<Figure size 432x288 with 1 Axes>"
      ]
     },
     "metadata": {
      "needs_background": "light"
     },
     "output_type": "display_data"
    }
   ],
   "source": [
    "#setting the axes\n",
    "axes = plt.axes()\n",
    "axes.set_xlim([0,(data['price'].max())])\n",
    "#making histogram with 20 bins\n",
    "plt.hist('price', data = data, bins = 20)\n",
    "plt.xlabel('Price')\n",
    "plt.ylabel('Quantity')\n",
    "plt.title('Price Distribution')"
   ]
  },
  {
   "cell_type": "code",
   "execution_count": 40,
   "id": "d8bd29a0",
   "metadata": {},
   "outputs": [
    {
     "data": {
      "text/plain": [
       "Text(0.5, 1.0, 'Value Price Distribution')"
      ]
     },
     "execution_count": 40,
     "metadata": {},
     "output_type": "execute_result"
    },
    {
     "data": {
      "image/png": "[encoded data removed]",
      "text/plain": [
       "<Figure size 432x288 with 1 Axes>"
      ]
     },
     "metadata": {
      "needs_background": "light"
     },
     "output_type": "display_data"
    }
   ],
   "source": [
    "#setting the axes\n",
    "axes = plt.axes()\n",
    "axes.set_xlim([0,(data['value_price'].max())])\n",
    "#making histogram with 20 bins\n",
    "plt.hist('value_price', data = data, bins = 20)\n",
    "plt.xlabel('Value Price')\n",
    "plt.ylabel('Quantity')\n",
    "plt.title('Value Price Distribution')"
   ]
  },
  {
   "cell_type": "markdown",
   "id": "1657b097-5fca-410f-9a7d-ff7405acb768",
   "metadata": {},
   "source": [
    "# Online Only"
   ]
  },
  {
   "cell_type": "code",
   "execution_count": 41,
   "id": "a7187bfb",
   "metadata": {},
   "outputs": [
    {
     "name": "stdout",
     "output_type": "stream",
     "text": [
      "0    7015\n",
      "1    2153\n",
      "Name: online_only, dtype: int64\n"
     ]
    },
    {
     "data": {
      "image/png": "[encoded data removed]",
      "text/plain": [
       "<Figure size 432x288 with 1 Axes>"
      ]
     },
     "metadata": {
      "needs_background": "light"
     },
     "output_type": "display_data"
    }
   ],
   "source": [
    "yhist = plt.hist('online_only', data = data, color='g')\n",
    "plt.xlabel('Online (1) vs not online (0)')\n",
    "plt.ylabel('Quantity')\n",
    "plt.title('Online Only Distribution')\n",
    "print(data.online_only.value_counts())"
   ]
  },
  {
   "cell_type": "code",
   "execution_count": 42,
   "id": "890ee857",
   "metadata": {},
   "outputs": [
    {
     "name": "stdout",
     "output_type": "stream",
     "text": [
      "Optimization terminated successfully.\n",
      "         Current function value: 0.496316\n",
      "         Iterations 8\n",
      "                           Logit Regression Results                           \n",
      "==============================================================================\n",
      "Dep. Variable:            online_only   No. Observations:                 9168\n",
      "Model:                          Logit   Df Residuals:                     9163\n",
      "Method:                           MLE   Df Model:                            4\n",
      "Date:                Fri, 10 Dec 2021   Pseudo R-squ.:                 0.08942\n",
      "Time:                        11:16:08   Log-Likelihood:                -4550.2\n",
      "converged:                       True   LL-Null:                       -4997.1\n",
      "Covariance Type:            nonrobust   LLR p-value:                3.821e-192\n",
      "=====================================================================================\n",
      "                        coef    std err          z      P>|z|      [0.025      0.975]\n",
      "-------------------------------------------------------------------------------------\n",
      "rating               -0.2227      0.010    -21.572      0.000      -0.243      -0.202\n",
      "number_of_reviews    -0.0028      0.000    -10.862      0.000      -0.003      -0.002\n",
      "love              -1.359e-05   3.54e-06     -3.834      0.000   -2.05e-05   -6.64e-06\n",
      "price                -0.0085      0.003     -3.200      0.001      -0.014      -0.003\n",
      "value_price           0.0113      0.003      4.498      0.000       0.006       0.016\n",
      "=====================================================================================\n"
     ]
    }
   ],
   "source": [
    "#importing module\n",
    "import statsmodels.api as sm\n",
    "#setting up X and y\n",
    "cols= ['rating','number_of_reviews','love','price','value_price']\n",
    "X= data[cols]\n",
    "y = data['online_only']\n",
    "#filling in the statsmodels Logit method\n",
    "logit_model = sm.Logit(y,X)\n",
    "result = logit_model.fit()\n",
    "print(result.summary())"
   ]
  },
  {
   "cell_type": "markdown",
   "id": "c884411f-9fdc-4fcc-b9b9-39bf5ae6a9d8",
   "metadata": {},
   "source": [
    "### Logistic Regression "
   ]
  },
  {
   "cell_type": "code",
   "execution_count": 43,
   "id": "7bc850ff",
   "metadata": {},
   "outputs": [
    {
     "name": "stdout",
     "output_type": "stream",
     "text": [
      "(6417, 6) (2751, 6) (6417,) (2751,)\n"
     ]
    }
   ],
   "source": [
    "from sklearn.linear_model import LogisticRegression\n",
    "#redefining columns\n",
    "cols= ['category','rating','number_of_reviews','love','price','value_price']\n",
    "X= data[cols]\n",
    "y = data['online_only']\n",
    "#Dividing into training(70%) and testing(30%)\n",
    "X_train, X_test, y_train, y_test = train_test_split(X, y, \n",
    "                                                    test_size = 0.3, train_size=0.7,\n",
    "                                                    random_state = 50)\n",
    "print(X_train.shape, X_test.shape, y_train.shape, y_test.shape)"
   ]
  },
  {
   "cell_type": "code",
   "execution_count": 44,
   "id": "3da7292b-6424-4b04-b8cf-827689a2c965",
   "metadata": {},
   "outputs": [
    {
     "name": "stdout",
     "output_type": "stream",
     "text": [
      "The accuracy is: 76.44492911668485%\n"
     ]
    }
   ],
   "source": [
    "#Running new regression on training data\n",
    "logreg = LogisticRegression(random_state=50, solver='lbfgs',\n",
    "                         multi_class='multinomial',max_iter=1000)\n",
    "logreg.fit(X_train, y_train)\n",
    "#Calculating the accuracy of the training model on the testing data\n",
    "accuracy = logreg.score(X_test, y_test)\n",
    "print('The accuracy is: ' + str(accuracy *100) + '%')"
   ]
  },
  {
   "cell_type": "code",
   "execution_count": 46,
   "id": "4e477922",
   "metadata": {},
   "outputs": [
    {
     "name": "stdout",
     "output_type": "stream",
     "text": [
      "                 Online only  Not online only\n",
      "Online only           2021.0             78.0\n",
      "Not online only        570.0             82.0\n"
     ]
    },
    {
     "data": {
      "text/plain": [
       "<AxesSubplot:>"
      ]
     },
     "execution_count": 46,
     "metadata": {},
     "output_type": "execute_result"
    },
    {
     "data": {
      "image/png": "[encoded data removed]",
      "text/plain": [
       "<Figure size 1152x576 with 2 Axes>"
      ]
     },
     "metadata": {
      "needs_background": "light"
     },
     "output_type": "display_data"
    }
   ],
   "source": [
    "from sklearn.metrics import confusion_matrix\n",
    "import seaborn as sn\n",
    "\n",
    "numClasses = 2\n",
    "li = ['Online only','Not online only']\n",
    "y_test = list(y_test)\n",
    "\n",
    "conf = np.zeros([numClasses,numClasses])\n",
    "guesses = logreg.predict(X_test)\n",
    "\n",
    "for digit in range(len(y_test)):\n",
    "    real = y_test[digit]\n",
    "    guess = guesses[digit]\n",
    "    conf[real,guess] = conf[real,guess] + 1\n",
    "df_cm = pd.DataFrame(conf, index = [i for i in li],\n",
    "                     columns = [i for i in li])\n",
    "plt.figure(figsize = (16,8))\n",
    "print(df_cm)\n",
    "sn.heatmap(df_cm, annot=True)"
   ]
  },
  {
   "cell_type": "markdown",
   "id": "d6b81d66-e1e2-40f4-8556-4a4466aa8b07",
   "metadata": {},
   "source": [
    "### Random Forest"
   ]
  },
  {
   "cell_type": "code",
   "execution_count": 47,
   "id": "960b89e8-920e-49af-b923-d13694f03a59",
   "metadata": {},
   "outputs": [
    {
     "name": "stdout",
     "output_type": "stream",
     "text": [
      "The accuracy is: 78.37150127226464%\n"
     ]
    }
   ],
   "source": [
    "from sklearn.ensemble import RandomForestClassifier\n",
    "\n",
    "classifier = RandomForestClassifier(n_estimators=100, \n",
    "                               random_state=50, \n",
    "                               max_features = 'sqrt')\n",
    "classifier.fit(X_train, y_train)\n",
    "accuracy = classifier.score(X_test,y_test)\n",
    "print('The accuracy is: ' + str(accuracy *100) + '%')"
   ]
  },
  {
   "cell_type": "code",
   "execution_count": 48,
   "id": "59ff221e-2471-458d-b753-76f611cfa835",
   "metadata": {},
   "outputs": [
    {
     "name": "stdout",
     "output_type": "stream",
     "text": [
      "                 Online only  Not online only\n",
      "Online only           1931.0            168.0\n",
      "Not online only        427.0            225.0\n"
     ]
    },
    {
     "data": {
      "text/plain": [
       "<AxesSubplot:>"
      ]
     },
     "execution_count": 48,
     "metadata": {},
     "output_type": "execute_result"
    },
    {
     "data": {
      "image/png": "[encoded data removed]",
      "text/plain": [
       "<Figure size 1152x576 with 2 Axes>"
      ]
     },
     "metadata": {
      "needs_background": "light"
     },
     "output_type": "display_data"
    }
   ],
   "source": [
    "from sklearn.metrics import confusion_matrix\n",
    "import seaborn as sn\n",
    "\n",
    "numClasses = 2\n",
    "li = ['Online only','Not online only']\n",
    "y_test = list(y_test)\n",
    "\n",
    "conf = np.zeros([numClasses,numClasses])\n",
    "guesses = classifier.predict(X_test)\n",
    "\n",
    "for digit in range(len(y_test)):\n",
    "    real = y_test[digit]\n",
    "    guess = guesses[digit]\n",
    "    conf[real,guess] = conf[real,guess] + 1\n",
    "df_cm = pd.DataFrame(conf, index = [i for i in li],\n",
    "                     columns = [i for i in li])\n",
    "plt.figure(figsize = (16,8))\n",
    "print(df_cm)\n",
    "sn.heatmap(df_cm, annot=True)"
   ]
  },
  {
   "cell_type": "markdown",
   "id": "e2b4498b-936b-46d9-8c87-bb29d47c14c5",
   "metadata": {},
   "source": [
    "# Limited Edition"
   ]
  },
  {
   "cell_type": "code",
   "execution_count": 49,
   "id": "15f60cfb-b68a-440c-baf4-3559a8fb4d35",
   "metadata": {},
   "outputs": [
    {
     "name": "stdout",
     "output_type": "stream",
     "text": [
      "0    8326\n",
      "1     842\n",
      "Name: limited_edition, dtype: int64\n"
     ]
    },
    {
     "data": {
      "image/png": "[encoded data removed]",
      "text/plain": [
       "<Figure size 432x288 with 1 Axes>"
      ]
     },
     "metadata": {
      "needs_background": "light"
     },
     "output_type": "display_data"
    }
   ],
   "source": [
    "yhist = plt.hist('limited_edition', data = data, color='g')\n",
    "plt.xlabel('Limited Edition (1) vs not limited edition (0)')\n",
    "plt.ylabel('Quantity')\n",
    "plt.title('Limited Edition Distribution')\n",
    "print(data.limited_edition.value_counts())"
   ]
  },
  {
   "cell_type": "code",
   "execution_count": 50,
   "id": "885bd074",
   "metadata": {},
   "outputs": [
    {
     "name": "stdout",
     "output_type": "stream",
     "text": [
      "Optimization terminated successfully.\n",
      "         Current function value: 0.269759\n",
      "         Iterations 8\n",
      "                           Logit Regression Results                           \n",
      "==============================================================================\n",
      "Dep. Variable:        limited_edition   No. Observations:                 9168\n",
      "Model:                          Logit   Df Residuals:                     9163\n",
      "Method:                           MLE   Df Model:                            4\n",
      "Date:                Fri, 10 Dec 2021   Pseudo R-squ.:                  0.1207\n",
      "Time:                        11:17:16   Log-Likelihood:                -2473.1\n",
      "converged:                       True   LL-Null:                       -2812.5\n",
      "Covariance Type:            nonrobust   LLR p-value:                1.377e-145\n",
      "=====================================================================================\n",
      "                        coef    std err          z      P>|z|      [0.025      0.975]\n",
      "-------------------------------------------------------------------------------------\n",
      "rating               -0.4916      0.015    -32.327      0.000      -0.521      -0.462\n",
      "number_of_reviews    -0.0014      0.000     -6.099      0.000      -0.002      -0.001\n",
      "love               6.044e-06   2.09e-06      2.894      0.004    1.95e-06    1.01e-05\n",
      "price                -0.0880      0.004    -19.703      0.000      -0.097      -0.079\n",
      "value_price           0.0784      0.004     19.824      0.000       0.071       0.086\n",
      "=====================================================================================\n"
     ]
    }
   ],
   "source": [
    "#importing module\n",
    "import statsmodels.api as sm\n",
    "#setting up X and y\n",
    "cols= ['rating','number_of_reviews','love','price','value_price']\n",
    "X= data[cols]\n",
    "y = data['limited_edition']\n",
    "#filling in the statsmodels Logit method\n",
    "logit_model = sm.Logit(y,X)\n",
    "result = logit_model.fit()\n",
    "print(result.summary())"
   ]
  },
  {
   "cell_type": "markdown",
   "id": "e7dc5d8e-86d6-4d08-bdd2-3bf514a1d334",
   "metadata": {},
   "source": [
    "### Logistic Regression"
   ]
  },
  {
   "cell_type": "code",
   "execution_count": 51,
   "id": "fd126900",
   "metadata": {},
   "outputs": [
    {
     "name": "stdout",
     "output_type": "stream",
     "text": [
      "(6417, 6) (2751, 6) (6417,) (2751,)\n"
     ]
    }
   ],
   "source": [
    "from sklearn.linear_model import LogisticRegression\n",
    "#redefining columns\n",
    "cols= ['category','rating','number_of_reviews','love','price','value_price']\n",
    "X= data[cols]\n",
    "y = data['limited_edition']\n",
    "#Dividing into training(70%) and testing(30%)\n",
    "X_train, X_test, y_train, y_test = train_test_split(X, y, \n",
    "                                                    test_size = 0.3, train_size=0.7,\n",
    "                                                    random_state = 50)\n",
    "print(X_train.shape, X_test.shape, y_train.shape, y_test.shape)"
   ]
  },
  {
   "cell_type": "code",
   "execution_count": 52,
   "id": "803d588e-ac53-4cb7-80c3-72b7e3dabda8",
   "metadata": {},
   "outputs": [
    {
     "name": "stdout",
     "output_type": "stream",
     "text": [
      "The accuracy is: 91.20319883678663%\n"
     ]
    }
   ],
   "source": [
    "#Running new regression on training data\n",
    "logreg = LogisticRegression(random_state=50, solver='lbfgs',\n",
    "                         multi_class='multinomial',max_iter=1000)\n",
    "logreg.fit(X_train, y_train)\n",
    "#Calculating the accuracy of the training model on the testing data\n",
    "accuracy = logreg.score(X_test, y_test)\n",
    "print('The accuracy is: ' + str(accuracy *100) + '%')"
   ]
  },
  {
   "cell_type": "code",
   "execution_count": 53,
   "id": "0ed2469b",
   "metadata": {},
   "outputs": [
    {
     "name": "stdout",
     "output_type": "stream",
     "text": [
      "                     limited edition  not limited edition\n",
      "limited edition               2466.0                 23.0\n",
      "not limited edition            219.0                 43.0\n"
     ]
    },
    {
     "data": {
      "text/plain": [
       "<AxesSubplot:>"
      ]
     },
     "execution_count": 53,
     "metadata": {},
     "output_type": "execute_result"
    },
    {
     "data": {
      "image/png": "[encoded data removed]",
      "text/plain": [
       "<Figure size 1152x576 with 2 Axes>"
      ]
     },
     "metadata": {
      "needs_background": "light"
     },
     "output_type": "display_data"
    }
   ],
   "source": [
    "from sklearn.metrics import confusion_matrix\n",
    "import seaborn as sn\n",
    "\n",
    "numClasses = 2\n",
    "li = ['limited edition','not limited edition']\n",
    "y_test = list(y_test)\n",
    "\n",
    "conf = np.zeros([numClasses,numClasses])\n",
    "guesses = logreg.predict(X_test)\n",
    "\n",
    "for digit in range(len(y_test)):\n",
    "    real = y_test[digit]\n",
    "    guess = guesses[digit]\n",
    "    conf[real,guess] = conf[real,guess] + 1\n",
    "df_cm = pd.DataFrame(conf, index = [i for i in li],\n",
    "                     columns = [i for i in li])\n",
    "plt.figure(figsize = (16,8))\n",
    "print(df_cm)\n",
    "sn.heatmap(df_cm, annot=True)"
   ]
  },
  {
   "cell_type": "markdown",
   "id": "9ef2adf1-6bda-46d3-bf94-3c97c983ef58",
   "metadata": {},
   "source": [
    "### Random Forest"
   ]
  },
  {
   "cell_type": "code",
   "execution_count": 54,
   "id": "5d57bdd4-c172-4e5e-bfe2-21dc4bf89110",
   "metadata": {},
   "outputs": [
    {
     "name": "stdout",
     "output_type": "stream",
     "text": [
      "The accuracy is: 92.00290803344238%\n"
     ]
    }
   ],
   "source": [
    "from sklearn.ensemble import RandomForestClassifier\n",
    "\n",
    "classifier = RandomForestClassifier(n_estimators=100, \n",
    "                               random_state=50, \n",
    "                               max_features = 'sqrt')\n",
    "classifier.fit(X_train, y_train)\n",
    "accuracy = classifier.score(X_test,y_test)\n",
    "print('The accuracy is: ' + str(accuracy *100) + '%')"
   ]
  },
  {
   "cell_type": "code",
   "execution_count": 55,
   "id": "7605ffe0-7e21-4c07-b3b7-a6c65d49bb4d",
   "metadata": {},
   "outputs": [
    {
     "name": "stdout",
     "output_type": "stream",
     "text": [
      "                 Limited Edition  Non Limited\n",
      "Limited Edition           2461.0         28.0\n",
      "Non Limited                192.0         70.0\n"
     ]
    },
    {
     "data": {
      "text/plain": [
       "<AxesSubplot:>"
      ]
     },
     "execution_count": 55,
     "metadata": {},
     "output_type": "execute_result"
    },
    {
     "data": {
      "image/png": "[encoded data removed]",
      "text/plain": [
       "<Figure size 1152x576 with 2 Axes>"
      ]
     },
     "metadata": {
      "needs_background": "light"
     },
     "output_type": "display_data"
    }
   ],
   "source": [
    "from sklearn.metrics import confusion_matrix\n",
    "import seaborn as sn\n",
    "\n",
    "numClasses = 2\n",
    "li = ['Limited Edition','Non Limited']\n",
    "y_test = list(y_test)\n",
    "\n",
    "conf = np.zeros([numClasses,numClasses])\n",
    "guesses = classifier.predict(X_test)\n",
    "\n",
    "for digit in range(len(y_test)):\n",
    "    real = y_test[digit]\n",
    "    guess = guesses[digit]\n",
    "    conf[real,guess] = conf[real,guess] + 1\n",
    "df_cm = pd.DataFrame(conf, index = [i for i in li],\n",
    "                     columns = [i for i in li])\n",
    "plt.figure(figsize = (16,8))\n",
    "print(df_cm)\n",
    "sn.heatmap(df_cm, annot=True)"
   ]
  },
  {
   "cell_type": "markdown",
   "id": "a32a6518",
   "metadata": {},
   "source": [
    "# Exclusive"
   ]
  },
  {
   "cell_type": "code",
   "execution_count": 56,
   "id": "f7bfa171",
   "metadata": {},
   "outputs": [
    {
     "name": "stdout",
     "output_type": "stream",
     "text": [
      "0    6741\n",
      "1    2427\n",
      "Name: exclusive, dtype: int64\n"
     ]
    },
    {
     "data": {
      "image/png": "[encoded data removed]",
      "text/plain": [
       "<Figure size 432x288 with 1 Axes>"
      ]
     },
     "metadata": {
      "needs_background": "light"
     },
     "output_type": "display_data"
    }
   ],
   "source": [
    "yhist = plt.hist('exclusive', data = data, color='g')\n",
    "plt.xlabel('Exclusive (1) vs not exclusive (0)')\n",
    "plt.ylabel('Quantity')\n",
    "plt.title('Exclusive Distribution')\n",
    "print(data.exclusive.value_counts())"
   ]
  },
  {
   "cell_type": "code",
   "execution_count": 57,
   "id": "336266ae",
   "metadata": {},
   "outputs": [
    {
     "name": "stdout",
     "output_type": "stream",
     "text": [
      "Optimization terminated successfully.\n",
      "         Current function value: 0.549421\n",
      "         Iterations 6\n",
      "                           Logit Regression Results                           \n",
      "==============================================================================\n",
      "Dep. Variable:              exclusive   No. Observations:                 9168\n",
      "Model:                          Logit   Df Residuals:                     9163\n",
      "Method:                           MLE   Df Model:                            4\n",
      "Date:                Fri, 10 Dec 2021   Pseudo R-squ.:                 0.04935\n",
      "Time:                        11:18:22   Log-Likelihood:                -5037.1\n",
      "converged:                       True   LL-Null:                       -5298.6\n",
      "Covariance Type:            nonrobust   LLR p-value:                7.242e-112\n",
      "=====================================================================================\n",
      "                        coef    std err          z      P>|z|      [0.025      0.975]\n",
      "-------------------------------------------------------------------------------------\n",
      "rating               -0.0748      0.010     -7.211      0.000      -0.095      -0.054\n",
      "number_of_reviews    -0.0002    4.9e-05     -4.628      0.000      -0.000      -0.000\n",
      "love               4.984e-06   9.08e-07      5.489      0.000     3.2e-06    6.76e-06\n",
      "price                -0.0450      0.003    -13.842      0.000      -0.051      -0.039\n",
      "value_price           0.0270      0.003      9.448      0.000       0.021       0.033\n",
      "=====================================================================================\n"
     ]
    }
   ],
   "source": [
    "#importing module\n",
    "import statsmodels.api as sm\n",
    "#setting up X and y\n",
    "cols= ['rating','number_of_reviews','love','price','value_price']\n",
    "X= data[cols]\n",
    "y = data['exclusive']\n",
    "#filling in the statsmodels Logit method\n",
    "logit_model = sm.Logit(y,X)\n",
    "result = logit_model.fit()\n",
    "print(result.summary())"
   ]
  },
  {
   "cell_type": "markdown",
   "id": "0c2e5a6a-04dc-4fd4-a514-f35fc8ea8f3b",
   "metadata": {},
   "source": [
    "### Logistic Regression "
   ]
  },
  {
   "cell_type": "code",
   "execution_count": 58,
   "id": "2c862aa0",
   "metadata": {},
   "outputs": [
    {
     "name": "stdout",
     "output_type": "stream",
     "text": [
      "(6417, 6) (2751, 6) (6417,) (2751,)\n"
     ]
    }
   ],
   "source": [
    "from sklearn.linear_model import LogisticRegression\n",
    "#redefining columns\n",
    "cols= ['category','rating','number_of_reviews','love','price','value_price']\n",
    "X= data[cols]\n",
    "y = data['exclusive']\n",
    "#Dividing into training(70%) and testing(30%)\n",
    "X_train, X_test, y_train, y_test = train_test_split(X, y, \n",
    "                                                    test_size = 0.3, train_size=0.7,\n",
    "                                                    random_state = 50)\n",
    "print(X_train.shape, X_test.shape, y_train.shape, y_test.shape)"
   ]
  },
  {
   "cell_type": "code",
   "execution_count": 59,
   "id": "b3dc7355-88a2-4456-beff-fc239530c026",
   "metadata": {},
   "outputs": [
    {
     "name": "stdout",
     "output_type": "stream",
     "text": [
      "The accuracy is: 73.2460923300618%\n"
     ]
    }
   ],
   "source": [
    "#Running new regression on training data\n",
    "logreg = LogisticRegression(random_state=50, solver='lbfgs',\n",
    "                         multi_class='multinomial',max_iter=1000)\n",
    "logreg.fit(X_train, y_train)\n",
    "#Calculating the accuracy of the training model on the testing data\n",
    "accuracy = logreg.score(X_test, y_test)\n",
    "print('The accuracy is: ' + str(accuracy *100) + '%')"
   ]
  },
  {
   "cell_type": "code",
   "execution_count": 60,
   "id": "4c56eaa7",
   "metadata": {},
   "outputs": [
    {
     "name": "stdout",
     "output_type": "stream",
     "text": [
      "               Exclusive  Not exclusive\n",
      "Exclusive         1997.0           19.0\n",
      "Not exclusive      717.0           18.0\n"
     ]
    },
    {
     "data": {
      "text/plain": [
       "<AxesSubplot:>"
      ]
     },
     "execution_count": 60,
     "metadata": {},
     "output_type": "execute_result"
    },
    {
     "data": {
      "image/png": "[encoded data removed]",
      "text/plain": [
       "<Figure size 1152x576 with 2 Axes>"
      ]
     },
     "metadata": {
      "needs_background": "light"
     },
     "output_type": "display_data"
    }
   ],
   "source": [
    "from sklearn.metrics import confusion_matrix\n",
    "import seaborn as sn\n",
    "\n",
    "numClasses = 2\n",
    "li = ['Exclusive','Not exclusive']\n",
    "y_test = list(y_test)\n",
    "\n",
    "conf = np.zeros([numClasses,numClasses])\n",
    "guesses = logreg.predict(X_test)\n",
    "\n",
    "for digit in range(len(y_test)):\n",
    "    real = y_test[digit]\n",
    "    guess = guesses[digit]\n",
    "    conf[real,guess] = conf[real,guess] + 1\n",
    "df_cm = pd.DataFrame(conf, index = [i for i in li],\n",
    "                     columns = [i for i in li])\n",
    "plt.figure(figsize = (16,8))\n",
    "print(df_cm)\n",
    "sn.heatmap(df_cm, annot=True)"
   ]
  },
  {
   "cell_type": "markdown",
   "id": "3c83af5c-4564-4b11-8c4f-73c0d0e017ec",
   "metadata": {},
   "source": [
    "### Random Forest"
   ]
  },
  {
   "cell_type": "code",
   "execution_count": 61,
   "id": "def04bec-dad9-4273-9317-790a4a37abce",
   "metadata": {},
   "outputs": [
    {
     "name": "stdout",
     "output_type": "stream",
     "text": [
      "The accuracy is: 76.88113413304252%\n"
     ]
    }
   ],
   "source": [
    "from sklearn.ensemble import RandomForestClassifier\n",
    "\n",
    "classifier = RandomForestClassifier(n_estimators=100, \n",
    "                               random_state=50, \n",
    "                               max_features = 'sqrt')\n",
    "classifier.fit(X_train, y_train)\n",
    "accuracy = classifier.score(X_test,y_test)\n",
    "print('The accuracy is: ' + str(accuracy *100) + '%')"
   ]
  },
  {
   "cell_type": "code",
   "execution_count": 62,
   "id": "0d5b702d-92b5-4c64-976b-c66683dfc9b1",
   "metadata": {},
   "outputs": [
    {
     "name": "stdout",
     "output_type": "stream",
     "text": [
      "               Exclsuive  Not Exclusive\n",
      "Exclsuive         1868.0          148.0\n",
      "Not Exclusive      488.0          247.0\n"
     ]
    },
    {
     "data": {
      "text/plain": [
       "<AxesSubplot:>"
      ]
     },
     "execution_count": 62,
     "metadata": {},
     "output_type": "execute_result"
    },
    {
     "data": {
      "image/png": "[encoded data removed]",
      "text/plain": [
       "<Figure size 1152x576 with 2 Axes>"
      ]
     },
     "metadata": {
      "needs_background": "light"
     },
     "output_type": "display_data"
    }
   ],
   "source": [
    "from sklearn.metrics import confusion_matrix\n",
    "import seaborn as sn\n",
    "\n",
    "numClasses = 2\n",
    "li = ['Exclsuive','Not Exclusive']\n",
    "y_test = list(y_test)\n",
    "\n",
    "conf = np.zeros([numClasses,numClasses])\n",
    "guesses = classifier.predict(X_test)\n",
    "\n",
    "for digit in range(len(y_test)):\n",
    "    real = y_test[digit]\n",
    "    guess = guesses[digit]\n",
    "    conf[real,guess] = conf[real,guess] + 1\n",
    "df_cm = pd.DataFrame(conf, index = [i for i in li],\n",
    "                     columns = [i for i in li])\n",
    "plt.figure(figsize = (16,8))\n",
    "print(df_cm)\n",
    "sn.heatmap(df_cm, annot=True)"
   ]
  },
  {
   "cell_type": "markdown",
   "id": "a811f1cf",
   "metadata": {},
   "source": [
    "# Limited Time Offer (DROPPED)"
   ]
  },
  {
   "cell_type": "code",
   "execution_count": 63,
   "id": "7a77891b",
   "metadata": {},
   "outputs": [
    {
     "name": "stdout",
     "output_type": "stream",
     "text": [
      "0    9165\n",
      "1       3\n",
      "Name: limited_time_offer, dtype: int64\n"
     ]
    },
    {
     "data": {
      "image/png": "[encoded data removed]",
      "text/plain": [
       "<Figure size 432x288 with 1 Axes>"
      ]
     },
     "metadata": {
      "needs_background": "light"
     },
     "output_type": "display_data"
    }
   ],
   "source": [
    "yhist = plt.hist('limited_time_offer', data = data, color='g')\n",
    "plt.xlabel('Limited Time Offer (1) vs not limited time offer (0)')\n",
    "plt.ylabel('Quantity')\n",
    "plt.title('Limited Time Distribution')\n",
    "print(data.limited_time_offer.value_counts())"
   ]
  },
  {
   "cell_type": "markdown",
   "id": "bab0962e-7bd6-4494-a9c0-29b809087e62",
   "metadata": {},
   "source": [
    "### Logistic Regression"
   ]
  },
  {
   "cell_type": "code",
   "execution_count": 64,
   "id": "f0fc9b3c",
   "metadata": {},
   "outputs": [
    {
     "name": "stdout",
     "output_type": "stream",
     "text": [
      "(6417, 6) (2751, 6) (6417,) (2751,)\n"
     ]
    }
   ],
   "source": [
    "from sklearn.linear_model import LogisticRegression\n",
    "#redefining columns\n",
    "cols= ['category','rating','number_of_reviews','love','price','value_price']\n",
    "X= data[cols]\n",
    "y = data['limited_time_offer']\n",
    "#Dividing into training(70%) and testing(30%)\n",
    "X_train, X_test, y_train, y_test = train_test_split(X, y, \n",
    "                                                    test_size = 0.3, train_size=0.7,\n",
    "                                                    random_state = 50)\n",
    "print(X_train.shape, X_test.shape, y_train.shape, y_test.shape)"
   ]
  },
  {
   "cell_type": "code",
   "execution_count": 65,
   "id": "e07c5952-9ef7-49c3-950b-28796bcba028",
   "metadata": {},
   "outputs": [
    {
     "name": "stdout",
     "output_type": "stream",
     "text": [
      "The accuracy is: 99.96364958197019%\n"
     ]
    }
   ],
   "source": [
    "#Running new regression on training data\n",
    "logreg = LogisticRegression(random_state=50, solver='lbfgs',\n",
    "                         multi_class='multinomial',max_iter=1000)\n",
    "logreg.fit(X_train, y_train)\n",
    "#Calculating the accuracy of the training model on the testing data\n",
    "accuracy = logreg.score(X_test, y_test)\n",
    "print('The accuracy is: ' + str(accuracy *100) + '%')"
   ]
  },
  {
   "cell_type": "code",
   "execution_count": 66,
   "id": "41ca84d1",
   "metadata": {},
   "outputs": [
    {
     "name": "stdout",
     "output_type": "stream",
     "text": [
      "                        Limited time offer  Not limited time offer\n",
      "Limited time offer                  2750.0                     0.0\n",
      "Not limited time offer                 1.0                     0.0\n"
     ]
    },
    {
     "data": {
      "text/plain": [
       "<AxesSubplot:>"
      ]
     },
     "execution_count": 66,
     "metadata": {},
     "output_type": "execute_result"
    },
    {
     "data": {
      "image/png": "[encoded data removed]",
      "text/plain": [
       "<Figure size 1152x576 with 2 Axes>"
      ]
     },
     "metadata": {
      "needs_background": "light"
     },
     "output_type": "display_data"
    }
   ],
   "source": [
    "from sklearn.metrics import confusion_matrix\n",
    "import seaborn as sn\n",
    "\n",
    "numClasses = 2\n",
    "li = ['Limited time offer','Not limited time offer']\n",
    "y_test = list(y_test)\n",
    "\n",
    "conf = np.zeros([numClasses,numClasses])\n",
    "guesses = logreg.predict(X_test)\n",
    "\n",
    "for digit in range(len(y_test)):\n",
    "    real = y_test[digit]\n",
    "    guess = guesses[digit]\n",
    "    conf[real,guess] = conf[real,guess] + 1\n",
    "df_cm = pd.DataFrame(conf, index = [i for i in li],\n",
    "                     columns = [i for i in li])\n",
    "plt.figure(figsize = (16,8))\n",
    "print(df_cm)\n",
    "sn.heatmap(df_cm, annot=True)"
   ]
  },
  {
   "cell_type": "markdown",
   "id": "9bb629c9",
   "metadata": {},
   "source": [
    "this is due to the dataset above for limited time offer not having any products in this dataset have 1 signifying the product was a limited time offer, therefore there was a 99% accuracy because no product in this dataset was a limited timeedition product.\n"
   ]
  },
  {
   "cell_type": "markdown",
   "id": "e9b9931e-7372-41a4-a8d2-b824e59bdef5",
   "metadata": {},
   "source": [
    "### Random Forest"
   ]
  },
  {
   "cell_type": "code",
   "execution_count": 67,
   "id": "a2080222-3c23-4649-8825-05b87b50972e",
   "metadata": {},
   "outputs": [
    {
     "name": "stdout",
     "output_type": "stream",
     "text": [
      "The accuracy is: 99.96364958197019%\n"
     ]
    }
   ],
   "source": [
    "from sklearn.ensemble import RandomForestClassifier\n",
    "\n",
    "classifier = RandomForestClassifier(n_estimators=100, \n",
    "                               random_state=50, \n",
    "                               max_features = 'sqrt')\n",
    "classifier.fit(X_train, y_train)\n",
    "accuracy = classifier.score(X_test,y_test)\n",
    "print('The accuracy is: ' + str(accuracy *100) + '%')"
   ]
  },
  {
   "cell_type": "code",
   "execution_count": 68,
   "id": "57600150-42db-4572-be7e-fb3ef0775b11",
   "metadata": {},
   "outputs": [
    {
     "name": "stdout",
     "output_type": "stream",
     "text": [
      "                        Limited time offer  Not limited time offer\n",
      "Limited time offer                  2750.0                     0.0\n",
      "Not limited time offer                 1.0                     0.0\n"
     ]
    },
    {
     "data": {
      "text/plain": [
       "<AxesSubplot:>"
      ]
     },
     "execution_count": 68,
     "metadata": {},
     "output_type": "execute_result"
    },
    {
     "data": {
      "image/png": "[encoded data removed]",
      "text/plain": [
       "<Figure size 1152x576 with 2 Axes>"
      ]
     },
     "metadata": {
      "needs_background": "light"
     },
     "output_type": "display_data"
    }
   ],
   "source": [
    "from sklearn.metrics import confusion_matrix\n",
    "import seaborn as sn\n",
    "\n",
    "numClasses = 2\n",
    "li = ['Limited time offer','Not limited time offer']\n",
    "y_test = list(y_test)\n",
    "\n",
    "conf = np.zeros([numClasses,numClasses])\n",
    "guesses = classifier.predict(X_test)\n",
    "\n",
    "for digit in range(len(y_test)):\n",
    "    real = y_test[digit]\n",
    "    guess = guesses[digit]\n",
    "    conf[real,guess] = conf[real,guess] + 1\n",
    "df_cm = pd.DataFrame(conf, index = [i for i in li],\n",
    "                     columns = [i for i in li])\n",
    "plt.figure(figsize = (16,8))\n",
    "print(df_cm)\n",
    "sn.heatmap(df_cm, annot=True)"
   ]
  }
 ],
 "metadata": {
  "kernelspec": {
   "display_name": "Python 3 (ipykernel)",
   "language": "python",
   "name": "python3"
  },
  "language_info": {
   "codemirror_mode": {
    "name": "ipython",
    "version": 3
   },
   "file_extension": ".py",
   "mimetype": "text/x-python",
   "name": "python",
   "nbconvert_exporter": "python",
   "pygments_lexer": "ipython3",
   "version": "3.10.2"
  }
 },
 "nbformat": 4,
 "nbformat_minor": 5
}
